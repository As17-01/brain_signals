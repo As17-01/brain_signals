{
 "cells": [
  {
   "cell_type": "code",
   "execution_count": 1,
   "metadata": {},
   "outputs": [
    {
     "name": "stderr",
     "output_type": "stream",
     "text": [
      "2025-03-18 01:57:11.706321: I external/local_xla/xla/tsl/cuda/cudart_stub.cc:32] Could not find cuda drivers on your machine, GPU will not be used.\n",
      "2025-03-18 01:57:11.718366: I external/local_xla/xla/tsl/cuda/cudart_stub.cc:32] Could not find cuda drivers on your machine, GPU will not be used.\n",
      "2025-03-18 01:57:11.762903: E external/local_xla/xla/stream_executor/cuda/cuda_fft.cc:477] Unable to register cuFFT factory: Attempting to register factory for plugin cuFFT when one has already been registered\n",
      "WARNING: All log messages before absl::InitializeLog() is called are written to STDERR\n",
      "E0000 00:00:1742252231.806238 1283313 cuda_dnn.cc:8310] Unable to register cuDNN factory: Attempting to register factory for plugin cuDNN when one has already been registered\n",
      "E0000 00:00:1742252231.817925 1283313 cuda_blas.cc:1418] Unable to register cuBLAS factory: Attempting to register factory for plugin cuBLAS when one has already been registered\n",
      "2025-03-18 01:57:11.862268: I tensorflow/core/platform/cpu_feature_guard.cc:210] This TensorFlow binary is optimized to use available CPU instructions in performance-critical operations.\n",
      "To enable the following instructions: AVX2 FMA, in other operations, rebuild TensorFlow with the appropriate compiler flags.\n"
     ]
    }
   ],
   "source": [
    "import numpy as np\n",
    "import pandas as pd\n",
    "import random\n",
    "\n",
    "from pathlib import Path\n",
    "from tqdm import tqdm\n",
    "\n",
    "import tensorflow as tf\n",
    "from tensorflow.keras.metrics import AUC\n",
    "from tensorflow.keras.models import Sequential\n",
    "from tensorflow.keras.optimizers import Adam\n",
    "from tensorflow.keras.layers import Dense, GRU, Input, BatchNormalization, Dropout, TimeDistributed\n",
    "from ncps.wirings import AutoNCP\n",
    "from ncps.keras import LTC"
   ]
  },
  {
   "cell_type": "markdown",
   "metadata": {},
   "source": [
    "# Configuration"
   ]
  },
  {
   "cell_type": "code",
   "execution_count": 2,
   "metadata": {},
   "outputs": [],
   "source": [
    "NUM_EPOCHS = 300\n",
    "STEP = 5\n",
    "NUM_EXPERIMENTS = 10\n",
    "\n",
    "def create_model(train):\n",
    "    model = Sequential()\n",
    "    model.add(Input(shape=(train.shape[1], train.shape[2])))\n",
    "\n",
    "    model.add(LTC(AutoNCP(16, 10), return_sequences=True))\n",
    "    model.add(LTC(AutoNCP(10, 4), return_sequences=False))\n",
    "\n",
    "    model.add(Dense(1, activation='sigmoid'))\n",
    "\n",
    "    model.compile(optimizer=Adam(learning_rate=0.003), loss='binary_crossentropy', metrics=[\"accuracy\", AUC(name=\"auc\")])\n",
    "    return model"
   ]
  },
  {
   "cell_type": "markdown",
   "metadata": {},
   "source": [
    "# Experiment"
   ]
  },
  {
   "cell_type": "code",
   "execution_count": 3,
   "metadata": {},
   "outputs": [],
   "source": [
    "ID = [\"ID\"]\n",
    "IDS = [\"SubjectID\", \"VideoID\"]\n",
    "TARGET = [\"predefinedlabel\"]\n",
    "FEATURES = [\"Raw\", \"Delta\", \"Theta\", \"Alpha1\", \"Alpha2\", \"Beta1\", \"Beta2\", \"Gamma1\", \"Gamma2\"]\n",
    "INIT_SEED = 5412"
   ]
  },
  {
   "cell_type": "code",
   "execution_count": 4,
   "metadata": {},
   "outputs": [
    {
     "data": {
      "text/html": [
       "<div>\n",
       "<style scoped>\n",
       "    .dataframe tbody tr th:only-of-type {\n",
       "        vertical-align: middle;\n",
       "    }\n",
       "\n",
       "    .dataframe tbody tr th {\n",
       "        vertical-align: top;\n",
       "    }\n",
       "\n",
       "    .dataframe thead th {\n",
       "        text-align: right;\n",
       "    }\n",
       "</style>\n",
       "<table border=\"1\" class=\"dataframe\">\n",
       "  <thead>\n",
       "    <tr style=\"text-align: right;\">\n",
       "      <th></th>\n",
       "      <th>ID</th>\n",
       "      <th>Raw</th>\n",
       "      <th>Delta</th>\n",
       "      <th>Theta</th>\n",
       "      <th>Alpha1</th>\n",
       "      <th>Alpha2</th>\n",
       "      <th>Beta1</th>\n",
       "      <th>Beta2</th>\n",
       "      <th>Gamma1</th>\n",
       "      <th>Gamma2</th>\n",
       "      <th>predefinedlabel</th>\n",
       "    </tr>\n",
       "  </thead>\n",
       "  <tbody>\n",
       "    <tr>\n",
       "      <th>0</th>\n",
       "      <td>0</td>\n",
       "      <td>278.0</td>\n",
       "      <td>301963.0</td>\n",
       "      <td>90612.0</td>\n",
       "      <td>33735.0</td>\n",
       "      <td>23991.0</td>\n",
       "      <td>27946.0</td>\n",
       "      <td>45097.0</td>\n",
       "      <td>33228.0</td>\n",
       "      <td>8293.0</td>\n",
       "      <td>0.0</td>\n",
       "    </tr>\n",
       "    <tr>\n",
       "      <th>1</th>\n",
       "      <td>0</td>\n",
       "      <td>-50.0</td>\n",
       "      <td>73787.0</td>\n",
       "      <td>28083.0</td>\n",
       "      <td>1439.0</td>\n",
       "      <td>2240.0</td>\n",
       "      <td>2746.0</td>\n",
       "      <td>3687.0</td>\n",
       "      <td>5293.0</td>\n",
       "      <td>2740.0</td>\n",
       "      <td>0.0</td>\n",
       "    </tr>\n",
       "    <tr>\n",
       "      <th>2</th>\n",
       "      <td>0</td>\n",
       "      <td>101.0</td>\n",
       "      <td>758353.0</td>\n",
       "      <td>383745.0</td>\n",
       "      <td>201999.0</td>\n",
       "      <td>62107.0</td>\n",
       "      <td>36293.0</td>\n",
       "      <td>130536.0</td>\n",
       "      <td>57243.0</td>\n",
       "      <td>25354.0</td>\n",
       "      <td>0.0</td>\n",
       "    </tr>\n",
       "  </tbody>\n",
       "</table>\n",
       "</div>"
      ],
      "text/plain": [
       "   ID    Raw     Delta     Theta    Alpha1   Alpha2    Beta1     Beta2  \\\n",
       "0   0  278.0  301963.0   90612.0   33735.0  23991.0  27946.0   45097.0   \n",
       "1   0  -50.0   73787.0   28083.0    1439.0   2240.0   2746.0    3687.0   \n",
       "2   0  101.0  758353.0  383745.0  201999.0  62107.0  36293.0  130536.0   \n",
       "\n",
       "    Gamma1   Gamma2  predefinedlabel  \n",
       "0  33228.0   8293.0              0.0  \n",
       "1   5293.0   2740.0              0.0  \n",
       "2  57243.0  25354.0              0.0  "
      ]
     },
     "execution_count": 4,
     "metadata": {},
     "output_type": "execute_result"
    }
   ],
   "source": [
    "data_dir = Path(\"/home/aseliverstov/projects/brain_signals/data\")\n",
    "data = pd.read_csv(data_dir / \"EEG_data.csv\")\n",
    "\n",
    "data[\"ID\"] = (len(np.unique(data[\"VideoID\"])) * data[\"SubjectID\"] + data[\"VideoID\"]).astype(\"int\")\n",
    "data = data[ID + FEATURES + TARGET]\n",
    "\n",
    "data.head(3)"
   ]
  },
  {
   "cell_type": "code",
   "execution_count": 5,
   "metadata": {},
   "outputs": [],
   "source": [
    "def reshape_dataset(data):\n",
    "    features = []\n",
    "    target = []\n",
    "    for cur_id in np.unique(data[ID].to_numpy()):\n",
    "        cur_id_data = data[data[ID].to_numpy() == cur_id]\n",
    "        target.append(np.mean(cur_id_data[TARGET].to_numpy()).astype(\"int\"))\n",
    "        features.append(cur_id_data[FEATURES].to_numpy())\n",
    "\n",
    "    features = pad_sequences(features)\n",
    "    return np.array(features), np.array(target)\n",
    "\n",
    "def pad_sequences(arrays, pad_value=0):\n",
    "    max_length = max(arr.shape[0] for arr in arrays)\n",
    "    padded_arrays = [\n",
    "        np.pad(\n",
    "            arr,\n",
    "            ((0, max_length - arr.shape[0]), (0, 0)),\n",
    "            mode='constant',\n",
    "            constant_values=pad_value)\n",
    "            for arr in arrays\n",
    "        ]\n",
    "    return np.stack(padded_arrays)"
   ]
  },
  {
   "cell_type": "code",
   "execution_count": 6,
   "metadata": {},
   "outputs": [
    {
     "name": "stderr",
     "output_type": "stream",
     "text": [
      "2025-03-18 01:57:16.537572: E external/local_xla/xla/stream_executor/cuda/cuda_driver.cc:152] failed call to cuInit: INTERNAL: CUDA error: Failed call to cuInit: UNKNOWN ERROR (303)\n"
     ]
    },
    {
     "data": {
      "text/html": [
       "<pre style=\"white-space:pre;overflow-x:auto;line-height:normal;font-family:Menlo,'DejaVu Sans Mono',consolas,'Courier New',monospace\"><span style=\"font-weight: bold\">Model: \"sequential\"</span>\n",
       "</pre>\n"
      ],
      "text/plain": [
       "\u001b[1mModel: \"sequential\"\u001b[0m\n"
      ]
     },
     "metadata": {},
     "output_type": "display_data"
    },
    {
     "data": {
      "text/html": [
       "<pre style=\"white-space:pre;overflow-x:auto;line-height:normal;font-family:Menlo,'DejaVu Sans Mono',consolas,'Courier New',monospace\">┏━━━━━━━━━━━━━━━━━━━━━━━━━━━━━━━━━┳━━━━━━━━━━━━━━━━━━━━━━━━┳━━━━━━━━━━━━━━━┓\n",
       "┃<span style=\"font-weight: bold\"> Layer (type)                    </span>┃<span style=\"font-weight: bold\"> Output Shape           </span>┃<span style=\"font-weight: bold\">       Param # </span>┃\n",
       "┡━━━━━━━━━━━━━━━━━━━━━━━━━━━━━━━━━╇━━━━━━━━━━━━━━━━━━━━━━━━╇━━━━━━━━━━━━━━━┩\n",
       "│ ltc (<span style=\"color: #0087ff; text-decoration-color: #0087ff\">LTC</span>)                       │ (<span style=\"color: #00d7ff; text-decoration-color: #00d7ff\">None</span>, <span style=\"color: #00af00; text-decoration-color: #00af00\">144</span>, <span style=\"color: #00af00; text-decoration-color: #00af00\">10</span>)        │         <span style=\"color: #00af00; text-decoration-color: #00af00\">1,686</span> │\n",
       "├─────────────────────────────────┼────────────────────────┼───────────────┤\n",
       "│ ltc_1 (<span style=\"color: #0087ff; text-decoration-color: #0087ff\">LTC</span>)                     │ (<span style=\"color: #00d7ff; text-decoration-color: #00d7ff\">None</span>, <span style=\"color: #00af00; text-decoration-color: #00af00\">4</span>)              │           <span style=\"color: #00af00; text-decoration-color: #00af00\">858</span> │\n",
       "├─────────────────────────────────┼────────────────────────┼───────────────┤\n",
       "│ dense (<span style=\"color: #0087ff; text-decoration-color: #0087ff\">Dense</span>)                   │ (<span style=\"color: #00d7ff; text-decoration-color: #00d7ff\">None</span>, <span style=\"color: #00af00; text-decoration-color: #00af00\">1</span>)              │             <span style=\"color: #00af00; text-decoration-color: #00af00\">5</span> │\n",
       "└─────────────────────────────────┴────────────────────────┴───────────────┘\n",
       "</pre>\n"
      ],
      "text/plain": [
       "┏━━━━━━━━━━━━━━━━━━━━━━━━━━━━━━━━━┳━━━━━━━━━━━━━━━━━━━━━━━━┳━━━━━━━━━━━━━━━┓\n",
       "┃\u001b[1m \u001b[0m\u001b[1mLayer (type)                   \u001b[0m\u001b[1m \u001b[0m┃\u001b[1m \u001b[0m\u001b[1mOutput Shape          \u001b[0m\u001b[1m \u001b[0m┃\u001b[1m \u001b[0m\u001b[1m      Param #\u001b[0m\u001b[1m \u001b[0m┃\n",
       "┡━━━━━━━━━━━━━━━━━━━━━━━━━━━━━━━━━╇━━━━━━━━━━━━━━━━━━━━━━━━╇━━━━━━━━━━━━━━━┩\n",
       "│ ltc (\u001b[38;5;33mLTC\u001b[0m)                       │ (\u001b[38;5;45mNone\u001b[0m, \u001b[38;5;34m144\u001b[0m, \u001b[38;5;34m10\u001b[0m)        │         \u001b[38;5;34m1,686\u001b[0m │\n",
       "├─────────────────────────────────┼────────────────────────┼───────────────┤\n",
       "│ ltc_1 (\u001b[38;5;33mLTC\u001b[0m)                     │ (\u001b[38;5;45mNone\u001b[0m, \u001b[38;5;34m4\u001b[0m)              │           \u001b[38;5;34m858\u001b[0m │\n",
       "├─────────────────────────────────┼────────────────────────┼───────────────┤\n",
       "│ dense (\u001b[38;5;33mDense\u001b[0m)                   │ (\u001b[38;5;45mNone\u001b[0m, \u001b[38;5;34m1\u001b[0m)              │             \u001b[38;5;34m5\u001b[0m │\n",
       "└─────────────────────────────────┴────────────────────────┴───────────────┘\n"
      ]
     },
     "metadata": {},
     "output_type": "display_data"
    },
    {
     "data": {
      "text/html": [
       "<pre style=\"white-space:pre;overflow-x:auto;line-height:normal;font-family:Menlo,'DejaVu Sans Mono',consolas,'Courier New',monospace\"><span style=\"font-weight: bold\"> Total params: </span><span style=\"color: #00af00; text-decoration-color: #00af00\">2,549</span> (9.96 KB)\n",
       "</pre>\n"
      ],
      "text/plain": [
       "\u001b[1m Total params: \u001b[0m\u001b[38;5;34m2,549\u001b[0m (9.96 KB)\n"
      ]
     },
     "metadata": {},
     "output_type": "display_data"
    },
    {
     "data": {
      "text/html": [
       "<pre style=\"white-space:pre;overflow-x:auto;line-height:normal;font-family:Menlo,'DejaVu Sans Mono',consolas,'Courier New',monospace\"><span style=\"font-weight: bold\"> Trainable params: </span><span style=\"color: #00af00; text-decoration-color: #00af00\">2,549</span> (9.96 KB)\n",
       "</pre>\n"
      ],
      "text/plain": [
       "\u001b[1m Trainable params: \u001b[0m\u001b[38;5;34m2,549\u001b[0m (9.96 KB)\n"
      ]
     },
     "metadata": {},
     "output_type": "display_data"
    },
    {
     "data": {
      "text/html": [
       "<pre style=\"white-space:pre;overflow-x:auto;line-height:normal;font-family:Menlo,'DejaVu Sans Mono',consolas,'Courier New',monospace\"><span style=\"font-weight: bold\"> Non-trainable params: </span><span style=\"color: #00af00; text-decoration-color: #00af00\">0</span> (0.00 B)\n",
       "</pre>\n"
      ],
      "text/plain": [
       "\u001b[1m Non-trainable params: \u001b[0m\u001b[38;5;34m0\u001b[0m (0.00 B)\n"
      ]
     },
     "metadata": {},
     "output_type": "display_data"
    }
   ],
   "source": [
    "X, _ = reshape_dataset(data)\n",
    "model = create_model(X)\n",
    "model.summary()"
   ]
  },
  {
   "cell_type": "code",
   "execution_count": 7,
   "metadata": {},
   "outputs": [
    {
     "name": "stderr",
     "output_type": "stream",
     "text": [
      "10it [08:28, 50.80s/it]\n"
     ]
    },
    {
     "name": "stdout",
     "output_type": "stream",
     "text": [
      "Epoch 5: TRAIN Accuracy = 0.501 Loss = 0.708 AUC = 0.438\n",
      "Epoch 5: VAL Accuracy = 0.483 Loss = 0.702 AUC = 0.513\n"
     ]
    },
    {
     "name": "stderr",
     "output_type": "stream",
     "text": [
      "10it [05:06, 30.69s/it]\n"
     ]
    },
    {
     "name": "stdout",
     "output_type": "stream",
     "text": [
      "Epoch 10: TRAIN Accuracy = 0.55 Loss = 0.687 AUC = 0.598\n",
      "Epoch 10: VAL Accuracy = 0.52 Loss = 0.687 AUC = 0.629\n"
     ]
    },
    {
     "name": "stderr",
     "output_type": "stream",
     "text": [
      "10it [04:59, 29.93s/it]\n"
     ]
    },
    {
     "name": "stdout",
     "output_type": "stream",
     "text": [
      "Epoch 15: TRAIN Accuracy = 0.574 Loss = 0.667 AUC = 0.697\n",
      "Epoch 15: VAL Accuracy = 0.587 Loss = 0.666 AUC = 0.71\n"
     ]
    },
    {
     "name": "stderr",
     "output_type": "stream",
     "text": [
      "10it [04:58, 29.89s/it]\n"
     ]
    },
    {
     "name": "stdout",
     "output_type": "stream",
     "text": [
      "Epoch 20: TRAIN Accuracy = 0.686 Loss = 0.631 AUC = 0.735\n",
      "Epoch 20: VAL Accuracy = 0.643 Loss = 0.633 AUC = 0.754\n"
     ]
    },
    {
     "name": "stderr",
     "output_type": "stream",
     "text": [
      "10it [03:54, 23.45s/it]\n"
     ]
    },
    {
     "name": "stdout",
     "output_type": "stream",
     "text": [
      "Epoch 25: TRAIN Accuracy = 0.727 Loss = 0.589 AUC = 0.741\n",
      "Epoch 25: VAL Accuracy = 0.68 Loss = 0.592 AUC = 0.76\n"
     ]
    },
    {
     "name": "stderr",
     "output_type": "stream",
     "text": [
      "10it [03:51, 23.18s/it]\n"
     ]
    },
    {
     "name": "stdout",
     "output_type": "stream",
     "text": [
      "Epoch 30: TRAIN Accuracy = 0.774 Loss = 0.537 AUC = 0.785\n",
      "Epoch 30: VAL Accuracy = 0.767 Loss = 0.542 AUC = 0.793\n"
     ]
    },
    {
     "name": "stderr",
     "output_type": "stream",
     "text": [
      "10it [03:50, 23.10s/it]\n"
     ]
    },
    {
     "name": "stdout",
     "output_type": "stream",
     "text": [
      "Epoch 35: TRAIN Accuracy = 0.784 Loss = 0.488 AUC = 0.778\n",
      "Epoch 35: VAL Accuracy = 0.807 Loss = 0.492 AUC = 0.792\n"
     ]
    },
    {
     "name": "stderr",
     "output_type": "stream",
     "text": [
      "10it [04:10, 25.02s/it]\n"
     ]
    },
    {
     "name": "stdout",
     "output_type": "stream",
     "text": [
      "Epoch 40: TRAIN Accuracy = 0.811 Loss = 0.453 AUC = 0.794\n",
      "Epoch 40: VAL Accuracy = 0.807 Loss = 0.457 AUC = 0.8\n"
     ]
    },
    {
     "name": "stderr",
     "output_type": "stream",
     "text": [
      "10it [04:14, 25.45s/it]\n"
     ]
    },
    {
     "name": "stdout",
     "output_type": "stream",
     "text": [
      "Epoch 45: TRAIN Accuracy = 0.811 Loss = 0.431 AUC = 0.792\n",
      "Epoch 45: VAL Accuracy = 0.807 Loss = 0.439 AUC = 0.797\n"
     ]
    },
    {
     "name": "stderr",
     "output_type": "stream",
     "text": [
      "10it [04:18, 25.82s/it]\n"
     ]
    },
    {
     "name": "stdout",
     "output_type": "stream",
     "text": [
      "Epoch 50: TRAIN Accuracy = 0.811 Loss = 0.42 AUC = 0.812\n",
      "Epoch 50: VAL Accuracy = 0.807 Loss = 0.431 AUC = 0.803\n"
     ]
    },
    {
     "name": "stderr",
     "output_type": "stream",
     "text": [
      "10it [04:15, 25.51s/it]\n"
     ]
    },
    {
     "name": "stdout",
     "output_type": "stream",
     "text": [
      "Epoch 55: TRAIN Accuracy = 0.811 Loss = 0.415 AUC = 0.809\n",
      "Epoch 55: VAL Accuracy = 0.807 Loss = 0.426 AUC = 0.803\n"
     ]
    },
    {
     "name": "stderr",
     "output_type": "stream",
     "text": [
      "10it [04:15, 25.53s/it]\n"
     ]
    },
    {
     "name": "stdout",
     "output_type": "stream",
     "text": [
      "Epoch 60: TRAIN Accuracy = 0.811 Loss = 0.412 AUC = 0.818\n",
      "Epoch 60: VAL Accuracy = 0.807 Loss = 0.423 AUC = 0.816\n"
     ]
    },
    {
     "name": "stderr",
     "output_type": "stream",
     "text": [
      "10it [04:12, 25.29s/it]\n"
     ]
    },
    {
     "name": "stdout",
     "output_type": "stream",
     "text": [
      "Epoch 65: TRAIN Accuracy = 0.811 Loss = 0.41 AUC = 0.808\n",
      "Epoch 65: VAL Accuracy = 0.807 Loss = 0.421 AUC = 0.827\n"
     ]
    },
    {
     "name": "stderr",
     "output_type": "stream",
     "text": [
      "10it [04:14, 25.46s/it]\n"
     ]
    },
    {
     "name": "stdout",
     "output_type": "stream",
     "text": [
      "Epoch 70: TRAIN Accuracy = 0.811 Loss = 0.409 AUC = 0.815\n",
      "Epoch 70: VAL Accuracy = 0.807 Loss = 0.42 AUC = 0.833\n"
     ]
    },
    {
     "name": "stderr",
     "output_type": "stream",
     "text": [
      "10it [04:15, 25.51s/it]\n"
     ]
    },
    {
     "name": "stdout",
     "output_type": "stream",
     "text": [
      "Epoch 75: TRAIN Accuracy = 0.811 Loss = 0.407 AUC = 0.83\n",
      "Epoch 75: VAL Accuracy = 0.807 Loss = 0.418 AUC = 0.824\n"
     ]
    },
    {
     "name": "stderr",
     "output_type": "stream",
     "text": [
      "10it [04:13, 25.36s/it]\n"
     ]
    },
    {
     "name": "stdout",
     "output_type": "stream",
     "text": [
      "Epoch 80: TRAIN Accuracy = 0.811 Loss = 0.406 AUC = 0.828\n",
      "Epoch 80: VAL Accuracy = 0.807 Loss = 0.417 AUC = 0.832\n"
     ]
    },
    {
     "name": "stderr",
     "output_type": "stream",
     "text": [
      "10it [04:08, 24.87s/it]\n"
     ]
    },
    {
     "name": "stdout",
     "output_type": "stream",
     "text": [
      "Epoch 85: TRAIN Accuracy = 0.811 Loss = 0.405 AUC = 0.834\n",
      "Epoch 85: VAL Accuracy = 0.807 Loss = 0.416 AUC = 0.829\n"
     ]
    },
    {
     "name": "stderr",
     "output_type": "stream",
     "text": [
      "10it [04:06, 24.61s/it]\n"
     ]
    },
    {
     "name": "stdout",
     "output_type": "stream",
     "text": [
      "Epoch 90: TRAIN Accuracy = 0.811 Loss = 0.404 AUC = 0.838\n",
      "Epoch 90: VAL Accuracy = 0.807 Loss = 0.416 AUC = 0.854\n"
     ]
    },
    {
     "name": "stderr",
     "output_type": "stream",
     "text": [
      "10it [04:10, 25.08s/it]\n"
     ]
    },
    {
     "name": "stdout",
     "output_type": "stream",
     "text": [
      "Epoch 95: TRAIN Accuracy = 0.811 Loss = 0.403 AUC = 0.819\n",
      "Epoch 95: VAL Accuracy = 0.793 Loss = 0.436 AUC = 0.811\n"
     ]
    },
    {
     "name": "stderr",
     "output_type": "stream",
     "text": [
      "10it [04:28, 26.84s/it]\n"
     ]
    },
    {
     "name": "stdout",
     "output_type": "stream",
     "text": [
      "Epoch 100: TRAIN Accuracy = 0.811 Loss = 0.401 AUC = 0.823\n",
      "Epoch 100: VAL Accuracy = 0.807 Loss = 0.414 AUC = 0.847\n"
     ]
    },
    {
     "name": "stderr",
     "output_type": "stream",
     "text": [
      "10it [04:14, 25.47s/it]\n"
     ]
    },
    {
     "name": "stdout",
     "output_type": "stream",
     "text": [
      "Epoch 105: TRAIN Accuracy = 0.811 Loss = 0.4 AUC = 0.825\n",
      "Epoch 105: VAL Accuracy = 0.807 Loss = 0.413 AUC = 0.845\n"
     ]
    },
    {
     "name": "stderr",
     "output_type": "stream",
     "text": [
      "10it [04:11, 25.19s/it]\n"
     ]
    },
    {
     "name": "stdout",
     "output_type": "stream",
     "text": [
      "Epoch 110: TRAIN Accuracy = 0.811 Loss = 0.398 AUC = 0.827\n",
      "Epoch 110: VAL Accuracy = 0.807 Loss = 0.41 AUC = 0.85\n"
     ]
    },
    {
     "name": "stderr",
     "output_type": "stream",
     "text": [
      "10it [04:14, 25.46s/it]\n"
     ]
    },
    {
     "name": "stdout",
     "output_type": "stream",
     "text": [
      "Epoch 115: TRAIN Accuracy = 0.806 Loss = 0.416 AUC = 0.825\n",
      "Epoch 115: VAL Accuracy = 0.807 Loss = 0.411 AUC = 0.854\n"
     ]
    },
    {
     "name": "stderr",
     "output_type": "stream",
     "text": [
      "10it [04:13, 25.32s/it]\n"
     ]
    },
    {
     "name": "stdout",
     "output_type": "stream",
     "text": [
      "Epoch 120: TRAIN Accuracy = 0.811 Loss = 0.395 AUC = 0.826\n",
      "Epoch 120: VAL Accuracy = 0.807 Loss = 0.409 AUC = 0.85\n"
     ]
    },
    {
     "name": "stderr",
     "output_type": "stream",
     "text": [
      "10it [04:14, 25.49s/it]\n"
     ]
    },
    {
     "name": "stdout",
     "output_type": "stream",
     "text": [
      "Epoch 125: TRAIN Accuracy = 0.811 Loss = 0.393 AUC = 0.836\n",
      "Epoch 125: VAL Accuracy = 0.807 Loss = 0.408 AUC = 0.855\n"
     ]
    },
    {
     "name": "stderr",
     "output_type": "stream",
     "text": [
      "10it [04:14, 25.46s/it]\n"
     ]
    },
    {
     "name": "stdout",
     "output_type": "stream",
     "text": [
      "Epoch 130: TRAIN Accuracy = 0.811 Loss = 0.391 AUC = 0.836\n",
      "Epoch 130: VAL Accuracy = 0.807 Loss = 0.407 AUC = 0.852\n"
     ]
    },
    {
     "name": "stderr",
     "output_type": "stream",
     "text": [
      "10it [04:14, 25.43s/it]\n"
     ]
    },
    {
     "name": "stdout",
     "output_type": "stream",
     "text": [
      "Epoch 135: TRAIN Accuracy = 0.811 Loss = 0.389 AUC = 0.845\n",
      "Epoch 135: VAL Accuracy = 0.807 Loss = 0.405 AUC = 0.861\n"
     ]
    },
    {
     "name": "stderr",
     "output_type": "stream",
     "text": [
      "10it [04:15, 25.52s/it]\n"
     ]
    },
    {
     "name": "stdout",
     "output_type": "stream",
     "text": [
      "Epoch 140: TRAIN Accuracy = 0.811 Loss = 0.387 AUC = 0.851\n",
      "Epoch 140: VAL Accuracy = 0.807 Loss = 0.404 AUC = 0.87\n"
     ]
    },
    {
     "name": "stderr",
     "output_type": "stream",
     "text": [
      "10it [04:13, 25.39s/it]\n"
     ]
    },
    {
     "name": "stdout",
     "output_type": "stream",
     "text": [
      "Epoch 145: TRAIN Accuracy = 0.811 Loss = 0.385 AUC = 0.845\n",
      "Epoch 145: VAL Accuracy = 0.807 Loss = 0.403 AUC = 0.863\n"
     ]
    },
    {
     "name": "stderr",
     "output_type": "stream",
     "text": [
      "10it [04:09, 24.91s/it]\n"
     ]
    },
    {
     "name": "stdout",
     "output_type": "stream",
     "text": [
      "Epoch 150: TRAIN Accuracy = 0.811 Loss = 0.383 AUC = 0.853\n",
      "Epoch 150: VAL Accuracy = 0.807 Loss = 0.401 AUC = 0.873\n"
     ]
    },
    {
     "name": "stderr",
     "output_type": "stream",
     "text": [
      "10it [04:10, 25.08s/it]\n"
     ]
    },
    {
     "name": "stdout",
     "output_type": "stream",
     "text": [
      "Epoch 155: TRAIN Accuracy = 0.811 Loss = 0.381 AUC = 0.85\n",
      "Epoch 155: VAL Accuracy = 0.807 Loss = 0.4 AUC = 0.868\n"
     ]
    },
    {
     "name": "stderr",
     "output_type": "stream",
     "text": [
      "10it [04:15, 25.52s/it]\n"
     ]
    },
    {
     "name": "stdout",
     "output_type": "stream",
     "text": [
      "Epoch 160: TRAIN Accuracy = 0.81 Loss = 0.379 AUC = 0.854\n",
      "Epoch 160: VAL Accuracy = 0.807 Loss = 0.398 AUC = 0.87\n"
     ]
    },
    {
     "name": "stderr",
     "output_type": "stream",
     "text": [
      "10it [04:13, 25.36s/it]\n"
     ]
    },
    {
     "name": "stdout",
     "output_type": "stream",
     "text": [
      "Epoch 165: TRAIN Accuracy = 0.809 Loss = 0.378 AUC = 0.858\n",
      "Epoch 165: VAL Accuracy = 0.807 Loss = 0.396 AUC = 0.88\n"
     ]
    },
    {
     "name": "stderr",
     "output_type": "stream",
     "text": [
      "10it [04:13, 25.40s/it]\n"
     ]
    },
    {
     "name": "stdout",
     "output_type": "stream",
     "text": [
      "Epoch 170: TRAIN Accuracy = 0.806 Loss = 0.376 AUC = 0.863\n",
      "Epoch 170: VAL Accuracy = 0.8 Loss = 0.395 AUC = 0.879\n"
     ]
    },
    {
     "name": "stderr",
     "output_type": "stream",
     "text": [
      "10it [04:13, 25.31s/it]\n"
     ]
    },
    {
     "name": "stdout",
     "output_type": "stream",
     "text": [
      "Epoch 175: TRAIN Accuracy = 0.806 Loss = 0.374 AUC = 0.863\n",
      "Epoch 175: VAL Accuracy = 0.8 Loss = 0.393 AUC = 0.879\n"
     ]
    },
    {
     "name": "stderr",
     "output_type": "stream",
     "text": [
      "10it [04:16, 25.60s/it]\n"
     ]
    },
    {
     "name": "stdout",
     "output_type": "stream",
     "text": [
      "Epoch 180: TRAIN Accuracy = 0.796 Loss = 0.393 AUC = 0.843\n",
      "Epoch 180: VAL Accuracy = 0.79 Loss = 0.404 AUC = 0.857\n"
     ]
    },
    {
     "name": "stderr",
     "output_type": "stream",
     "text": [
      "10it [04:14, 25.45s/it]\n"
     ]
    },
    {
     "name": "stdout",
     "output_type": "stream",
     "text": [
      "Epoch 185: TRAIN Accuracy = 0.796 Loss = 0.387 AUC = 0.839\n",
      "Epoch 185: VAL Accuracy = 0.79 Loss = 0.4 AUC = 0.849\n"
     ]
    },
    {
     "name": "stderr",
     "output_type": "stream",
     "text": [
      "10it [04:14, 25.45s/it]\n"
     ]
    },
    {
     "name": "stdout",
     "output_type": "stream",
     "text": [
      "Epoch 190: TRAIN Accuracy = 0.796 Loss = 0.385 AUC = 0.857\n",
      "Epoch 190: VAL Accuracy = 0.79 Loss = 0.398 AUC = 0.873\n"
     ]
    },
    {
     "name": "stderr",
     "output_type": "stream",
     "text": [
      "10it [04:14, 25.42s/it]\n"
     ]
    },
    {
     "name": "stdout",
     "output_type": "stream",
     "text": [
      "Epoch 195: TRAIN Accuracy = 0.806 Loss = 0.373 AUC = 0.858\n",
      "Epoch 195: VAL Accuracy = 0.8 Loss = 0.389 AUC = 0.865\n"
     ]
    },
    {
     "name": "stderr",
     "output_type": "stream",
     "text": [
      "10it [04:12, 25.24s/it]\n"
     ]
    },
    {
     "name": "stdout",
     "output_type": "stream",
     "text": [
      "Epoch 200: TRAIN Accuracy = 0.806 Loss = 0.37 AUC = 0.86\n",
      "Epoch 200: VAL Accuracy = 0.8 Loss = 0.389 AUC = 0.864\n"
     ]
    },
    {
     "name": "stderr",
     "output_type": "stream",
     "text": [
      "10it [04:13, 25.37s/it]\n"
     ]
    },
    {
     "name": "stdout",
     "output_type": "stream",
     "text": [
      "Epoch 205: TRAIN Accuracy = 0.806 Loss = 0.368 AUC = 0.865\n",
      "Epoch 205: VAL Accuracy = 0.8 Loss = 0.388 AUC = 0.867\n"
     ]
    },
    {
     "name": "stderr",
     "output_type": "stream",
     "text": [
      "10it [04:14, 25.42s/it]\n"
     ]
    },
    {
     "name": "stdout",
     "output_type": "stream",
     "text": [
      "Epoch 210: TRAIN Accuracy = 0.769 Loss = 0.486 AUC = 0.816\n",
      "Epoch 210: VAL Accuracy = 0.767 Loss = 0.417 AUC = 0.832\n"
     ]
    },
    {
     "name": "stderr",
     "output_type": "stream",
     "text": [
      "10it [04:10, 25.04s/it]\n"
     ]
    },
    {
     "name": "stdout",
     "output_type": "stream",
     "text": [
      "Epoch 215: TRAIN Accuracy = 0.804 Loss = 0.374 AUC = 0.869\n",
      "Epoch 215: VAL Accuracy = 0.8 Loss = 0.39 AUC = 0.874\n"
     ]
    },
    {
     "name": "stderr",
     "output_type": "stream",
     "text": [
      "10it [04:11, 25.13s/it]\n"
     ]
    },
    {
     "name": "stdout",
     "output_type": "stream",
     "text": [
      "Epoch 220: TRAIN Accuracy = 0.801 Loss = 0.368 AUC = 0.877\n",
      "Epoch 220: VAL Accuracy = 0.797 Loss = 0.387 AUC = 0.883\n"
     ]
    },
    {
     "name": "stderr",
     "output_type": "stream",
     "text": [
      "10it [04:09, 24.95s/it]\n"
     ]
    },
    {
     "name": "stdout",
     "output_type": "stream",
     "text": [
      "Epoch 225: TRAIN Accuracy = 0.801 Loss = 0.366 AUC = 0.883\n",
      "Epoch 225: VAL Accuracy = 0.797 Loss = 0.386 AUC = 0.879\n"
     ]
    },
    {
     "name": "stderr",
     "output_type": "stream",
     "text": [
      "10it [04:14, 25.43s/it]\n"
     ]
    },
    {
     "name": "stdout",
     "output_type": "stream",
     "text": [
      "Epoch 230: TRAIN Accuracy = 0.801 Loss = 0.364 AUC = 0.876\n",
      "Epoch 230: VAL Accuracy = 0.787 Loss = 0.443 AUC = 0.868\n"
     ]
    },
    {
     "name": "stderr",
     "output_type": "stream",
     "text": [
      "10it [04:12, 25.28s/it]\n"
     ]
    },
    {
     "name": "stdout",
     "output_type": "stream",
     "text": [
      "Epoch 235: TRAIN Accuracy = 0.804 Loss = 0.371 AUC = 0.884\n",
      "Epoch 235: VAL Accuracy = 0.787 Loss = 0.431 AUC = 0.877\n"
     ]
    },
    {
     "name": "stderr",
     "output_type": "stream",
     "text": [
      "10it [04:16, 25.63s/it]\n"
     ]
    },
    {
     "name": "stdout",
     "output_type": "stream",
     "text": [
      "Epoch 240: TRAIN Accuracy = 0.801 Loss = 0.366 AUC = 0.887\n",
      "Epoch 240: VAL Accuracy = 0.787 Loss = 0.42 AUC = 0.883\n"
     ]
    },
    {
     "name": "stderr",
     "output_type": "stream",
     "text": [
      "10it [04:22, 26.27s/it]\n"
     ]
    },
    {
     "name": "stdout",
     "output_type": "stream",
     "text": [
      "Epoch 245: TRAIN Accuracy = 0.797 Loss = 0.364 AUC = 0.888\n",
      "Epoch 245: VAL Accuracy = 0.787 Loss = 0.41 AUC = 0.881\n"
     ]
    },
    {
     "name": "stderr",
     "output_type": "stream",
     "text": [
      "10it [04:20, 26.07s/it]\n"
     ]
    },
    {
     "name": "stdout",
     "output_type": "stream",
     "text": [
      "Epoch 250: TRAIN Accuracy = 0.806 Loss = 0.361 AUC = 0.889\n",
      "Epoch 250: VAL Accuracy = 0.787 Loss = 0.405 AUC = 0.88\n"
     ]
    },
    {
     "name": "stderr",
     "output_type": "stream",
     "text": [
      "10it [04:13, 25.37s/it]\n"
     ]
    },
    {
     "name": "stdout",
     "output_type": "stream",
     "text": [
      "Epoch 255: TRAIN Accuracy = 0.806 Loss = 0.359 AUC = 0.892\n",
      "Epoch 255: VAL Accuracy = 0.787 Loss = 0.401 AUC = 0.882\n"
     ]
    },
    {
     "name": "stderr",
     "output_type": "stream",
     "text": [
      "10it [04:14, 25.41s/it]\n"
     ]
    },
    {
     "name": "stdout",
     "output_type": "stream",
     "text": [
      "Epoch 260: TRAIN Accuracy = 0.806 Loss = 0.356 AUC = 0.893\n",
      "Epoch 260: VAL Accuracy = 0.787 Loss = 0.399 AUC = 0.881\n"
     ]
    },
    {
     "name": "stderr",
     "output_type": "stream",
     "text": [
      "10it [04:15, 25.58s/it]\n"
     ]
    },
    {
     "name": "stdout",
     "output_type": "stream",
     "text": [
      "Epoch 265: TRAIN Accuracy = 0.809 Loss = 0.361 AUC = 0.887\n",
      "Epoch 265: VAL Accuracy = 0.78 Loss = 0.421 AUC = 0.875\n"
     ]
    },
    {
     "name": "stderr",
     "output_type": "stream",
     "text": [
      "10it [04:15, 25.51s/it]\n"
     ]
    },
    {
     "name": "stdout",
     "output_type": "stream",
     "text": [
      "Epoch 270: TRAIN Accuracy = 0.797 Loss = 0.355 AUC = 0.893\n",
      "Epoch 270: VAL Accuracy = 0.787 Loss = 0.4 AUC = 0.882\n"
     ]
    },
    {
     "name": "stderr",
     "output_type": "stream",
     "text": [
      "10it [04:15, 25.52s/it]\n"
     ]
    },
    {
     "name": "stdout",
     "output_type": "stream",
     "text": [
      "Epoch 275: TRAIN Accuracy = 0.806 Loss = 0.353 AUC = 0.894\n",
      "Epoch 275: VAL Accuracy = 0.787 Loss = 0.405 AUC = 0.881\n"
     ]
    },
    {
     "name": "stderr",
     "output_type": "stream",
     "text": [
      "10it [04:14, 25.45s/it]\n"
     ]
    },
    {
     "name": "stdout",
     "output_type": "stream",
     "text": [
      "Epoch 280: TRAIN Accuracy = 0.809 Loss = 0.351 AUC = 0.893\n",
      "Epoch 280: VAL Accuracy = 0.797 Loss = 0.374 AUC = 0.894\n"
     ]
    },
    {
     "name": "stderr",
     "output_type": "stream",
     "text": [
      "10it [04:13, 25.36s/it]\n"
     ]
    },
    {
     "name": "stdout",
     "output_type": "stream",
     "text": [
      "Epoch 285: TRAIN Accuracy = 0.81 Loss = 0.345 AUC = 0.894\n",
      "Epoch 285: VAL Accuracy = 0.797 Loss = 0.37 AUC = 0.895\n"
     ]
    },
    {
     "name": "stderr",
     "output_type": "stream",
     "text": [
      "10it [04:17, 25.71s/it]\n"
     ]
    },
    {
     "name": "stdout",
     "output_type": "stream",
     "text": [
      "Epoch 290: TRAIN Accuracy = 0.81 Loss = 0.343 AUC = 0.893\n",
      "Epoch 290: VAL Accuracy = 0.797 Loss = 0.367 AUC = 0.896\n"
     ]
    },
    {
     "name": "stderr",
     "output_type": "stream",
     "text": [
      "10it [04:16, 25.63s/it]\n"
     ]
    },
    {
     "name": "stdout",
     "output_type": "stream",
     "text": [
      "Epoch 295: TRAIN Accuracy = 0.809 Loss = 0.34 AUC = 0.895\n",
      "Epoch 295: VAL Accuracy = 0.797 Loss = 0.365 AUC = 0.893\n"
     ]
    },
    {
     "name": "stderr",
     "output_type": "stream",
     "text": [
      "10it [04:20, 26.06s/it]"
     ]
    },
    {
     "name": "stdout",
     "output_type": "stream",
     "text": [
      "Epoch 300: TRAIN Accuracy = 0.806 Loss = 0.345 AUC = 0.89\n",
      "Epoch 300: VAL Accuracy = 0.797 Loss = 0.365 AUC = 0.891\n",
      "CPU times: user 10h 2min, sys: 4h 31min 36s, total: 14h 33min 37s\n",
      "Wall time: 4h 19min 50s\n"
     ]
    },
    {
     "name": "stderr",
     "output_type": "stream",
     "text": [
      "\n"
     ]
    }
   ],
   "source": [
    "%%time\n",
    "\n",
    "models = []\n",
    "\n",
    "for i in range(NUM_EPOCHS // STEP):\n",
    "    epoch_acc = []\n",
    "    epoch_loss = []\n",
    "    epoch_auc = []\n",
    "\n",
    "    epoch_val_acc = []\n",
    "    epoch_val_loss = []\n",
    "    epoch_val_auc = []\n",
    "\n",
    "    for j, seed in tqdm(enumerate(np.arange(NUM_EXPERIMENTS) + INIT_SEED)):\n",
    "        np.random.seed(int(seed))\n",
    "        random.seed(int(seed))\n",
    "        tf.random.set_seed(int(seed))\n",
    "\n",
    "        train_id = np.random.choice(np.unique(np.ravel(data[ID])), 70, replace=False)\n",
    "        train_index = np.isin(data[ID], train_id)\n",
    "\n",
    "        train = data.iloc[train_index]\n",
    "        test = data.iloc[~train_index]\n",
    "\n",
    "        X_train, y_train = reshape_dataset(train)\n",
    "        X_test, y_test = reshape_dataset(test)\n",
    "\n",
    "        y_train = y_train.reshape(-1, 1)\n",
    "        y_test = y_test.reshape(-1, 1)\n",
    "\n",
    "        if i == 0:\n",
    "            model = create_model(X_train)\n",
    "            models.append(model)\n",
    "        else:\n",
    "            model = models[j]\n",
    "\n",
    "        history = model.fit(\n",
    "            X_train, y_train,\n",
    "            validation_data=(X_test, y_test),\n",
    "            epochs=STEP,\n",
    "            batch_size=16,\n",
    "            verbose=0,\n",
    "        )\n",
    "        acc = history.history['accuracy'][0]\n",
    "        loss = history.history['loss'][0]\n",
    "        auc = history.history['auc'][0]\n",
    "\n",
    "        val_acc = history.history['val_accuracy'][0]\n",
    "        val_loss = history.history['val_loss'][0]\n",
    "        val_auc = history.history['val_auc'][0]\n",
    "\n",
    "        epoch_acc.append(acc)\n",
    "        epoch_loss.append(loss)\n",
    "        epoch_auc.append(auc)\n",
    "\n",
    "        epoch_val_acc.append(val_acc)\n",
    "        epoch_val_loss.append(val_loss)\n",
    "        epoch_val_auc.append(val_auc)\n",
    "\n",
    "    print(f\"Epoch {(i + 1) * STEP}: TRAIN Accuracy = {np.round(np.mean(epoch_acc), 3)} Loss = {np.round(np.mean(epoch_loss), 3)} AUC = {np.round(np.mean(epoch_auc), 3)}\")\n",
    "    print(f\"Epoch {(i + 1) * STEP}: VAL Accuracy = {np.round(np.mean(epoch_val_acc), 3)} Loss = {np.round(np.mean(epoch_val_loss), 3)} AUC = {np.round(np.mean(epoch_val_auc), 3)}\")"
   ]
  }
 ],
 "metadata": {
  "kernelspec": {
   "display_name": "brain-signals-_5HxkjSc-py3.10",
   "language": "python",
   "name": "python3"
  },
  "language_info": {
   "codemirror_mode": {
    "name": "ipython",
    "version": 3
   },
   "file_extension": ".py",
   "mimetype": "text/x-python",
   "name": "python",
   "nbconvert_exporter": "python",
   "pygments_lexer": "ipython3",
   "version": "3.10.12"
  }
 },
 "nbformat": 4,
 "nbformat_minor": 2
}
